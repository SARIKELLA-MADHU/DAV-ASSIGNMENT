{
  "nbformat": 4,
  "nbformat_minor": 0,
  "metadata": {
    "colab": {
      "provenance": []
    },
    "kernelspec": {
      "name": "python3",
      "display_name": "Python 3"
    },
    "language_info": {
      "name": "python"
    }
  },
  "cells": [
    {
      "cell_type": "code",
      "source": [
        "\n",
        "import pandas as pd\n",
        "import numpy as np\n",
        "df = pd.read_csv('/content/weather_classification_data.csv')\n",
        "print(df.head())"
      ],
      "metadata": {
        "colab": {
          "base_uri": "https://localhost:8080/"
        },
        "id": "8WQXZOzh6hp5",
        "outputId": "4c60eed3-2f1c-4528-f897-075b1cff9636"
      },
      "execution_count": null,
      "outputs": [
        {
          "output_type": "stream",
          "name": "stdout",
          "text": [
            "   Temperature  Humidity  Wind Speed  Precipitation (%)    Cloud Cover  \\\n",
            "0         14.0        73         9.5               82.0  partly cloudy   \n",
            "1         39.0        96         8.5               71.0  partly cloudy   \n",
            "2         30.0        64         7.0               16.0          clear   \n",
            "3         38.0        83         1.5               82.0          clear   \n",
            "4         27.0        74        17.0               66.0       overcast   \n",
            "\n",
            "   Atmospheric Pressure  UV Index  Season  Visibility (km)  Location  \\\n",
            "0               1010.82         2  Winter              3.5    inland   \n",
            "1               1011.43         7  Spring             10.0    inland   \n",
            "2               1018.72         5  Spring              5.5  mountain   \n",
            "3               1026.25         7  Spring              1.0   coastal   \n",
            "4                990.67         1  Winter              2.5  mountain   \n",
            "\n",
            "  Weather Type  \n",
            "0        Rainy  \n",
            "1       Cloudy  \n",
            "2        Sunny  \n",
            "3        Sunny  \n",
            "4        Rainy  \n"
          ]
        }
      ]
    },
    {
      "cell_type": "code",
      "source": [
        "numeric_df = df.select_dtypes(include=[np.number])\n",
        "numeric_data = numeric_df.to_numpy()\n",
        "print(numeric_data)"
      ],
      "metadata": {
        "colab": {
          "base_uri": "https://localhost:8080/"
        },
        "id": "4C5l70JD6pey",
        "outputId": "70660095-1c83-423c-f2c8-e04e0948af15"
      },
      "execution_count": null,
      "outputs": [
        {
          "output_type": "stream",
          "name": "stdout",
          "text": [
            "[[  14.     73.      9.5  ... 1010.82    2.      3.5 ]\n",
            " [  39.     96.      8.5  ... 1011.43    7.     10.  ]\n",
            " [  30.     64.      7.   ... 1018.72    5.      5.5 ]\n",
            " ...\n",
            " [  30.     77.      5.5  ... 1012.69    3.      9.  ]\n",
            " [   3.     76.     10.   ...  984.27    0.      2.  ]\n",
            " [  -5.     38.      0.   ... 1015.37    5.     10.  ]]\n"
          ]
        }
      ]
    },
    {
      "cell_type": "code",
      "source": [
        "zeros = np.zeros((2, 3))\n",
        "ones = np.ones((2, 3))\n",
        "range_arr = np.arange(10)\n",
        "print(numeric_data[0])     # First row\n",
        "print(numeric_data[0, 1])  # Element at row 0, column 1\n"
      ],
      "metadata": {
        "colab": {
          "base_uri": "https://localhost:8080/"
        },
        "id": "fPir7adF6zkv",
        "outputId": "7d8b41b6-412f-4ba8-829e-82a6a919ba02"
      },
      "execution_count": null,
      "outputs": [
        {
          "output_type": "stream",
          "name": "stdout",
          "text": [
            "[  14.     73.      9.5    82.   1010.82    2.      3.5 ]\n",
            "73.0\n"
          ]
        }
      ]
    },
    {
      "cell_type": "code",
      "source": [
        "print(numeric_data[0:5, :3])  # First 5 rows, first 3 columns\n"
      ],
      "metadata": {
        "colab": {
          "base_uri": "https://localhost:8080/"
        },
        "id": "Ff1gsP-P63Mg",
        "outputId": "4fb0ca39-8a6d-4bc8-c3f8-ce3a0e5c7796"
      },
      "execution_count": null,
      "outputs": [
        {
          "output_type": "stream",
          "name": "stdout",
          "text": [
            "[[14.  73.   9.5]\n",
            " [39.  96.   8.5]\n",
            " [30.  64.   7. ]\n",
            " [38.  83.   1.5]\n",
            " [27.  74.  17. ]]\n"
          ]
        }
      ]
    },
    {
      "cell_type": "code",
      "source": [
        "reshaped = numeric_data[:12].reshape(4, -1)  # Reshape first 12 elements into 4 rows\n",
        "print(reshaped)"
      ],
      "metadata": {
        "colab": {
          "base_uri": "https://localhost:8080/"
        },
        "id": "pqq93ZVl65SR",
        "outputId": "acdc6962-ba00-4705-cbba-372fdc01c4cb"
      },
      "execution_count": null,
      "outputs": [
        {
          "output_type": "stream",
          "name": "stdout",
          "text": [
            "[[ 1.40000e+01  7.30000e+01  9.50000e+00  8.20000e+01  1.01082e+03\n",
            "   2.00000e+00  3.50000e+00  3.90000e+01  9.60000e+01  8.50000e+00\n",
            "   7.10000e+01  1.01143e+03  7.00000e+00  1.00000e+01  3.00000e+01\n",
            "   6.40000e+01  7.00000e+00  1.60000e+01  1.01872e+03  5.00000e+00\n",
            "   5.50000e+00]\n",
            " [ 3.80000e+01  8.30000e+01  1.50000e+00  8.20000e+01  1.02625e+03\n",
            "   7.00000e+00  1.00000e+00  2.70000e+01  7.40000e+01  1.70000e+01\n",
            "   6.60000e+01  9.90670e+02  1.00000e+00  2.50000e+00  3.20000e+01\n",
            "   5.50000e+01  3.50000e+00  2.60000e+01  1.01003e+03  2.00000e+00\n",
            "   5.00000e+00]\n",
            " [-2.00000e+00  9.70000e+01  8.00000e+00  8.60000e+01  9.90870e+02\n",
            "   1.00000e+00  4.00000e+00  3.00000e+00  8.50000e+01  6.00000e+00\n",
            "   9.60000e+01  9.84460e+02  1.00000e+00  3.50000e+00  3.00000e+00\n",
            "   8.30000e+01  6.00000e+00  6.60000e+01  9.99440e+02  0.00000e+00\n",
            "   1.00000e+00]\n",
            " [ 2.80000e+01  7.40000e+01  8.50000e+00  1.07000e+02  1.01213e+03\n",
            "   8.00000e+00  7.50000e+00  3.50000e+01  4.50000e+01  6.00000e+00\n",
            "   8.60000e+01  8.79880e+02  2.00000e+00  1.00000e+00  3.80000e+01\n",
            "   4.30000e+01  2.00000e+00  1.60000e+01  1.02916e+03  1.10000e+01\n",
            "   7.50000e+00]]\n"
          ]
        }
      ]
    },
    {
      "cell_type": "code",
      "source": [
        "a, b = np.split(numeric_data, 2)  # Split into two halves\n",
        "concat = np.concatenate([a, b])   # Combine back\n",
        "print(concat)"
      ],
      "metadata": {
        "colab": {
          "base_uri": "https://localhost:8080/"
        },
        "id": "oyprpayh69wL",
        "outputId": "70ff69ec-9e7e-4836-bb65-3728bf84b334"
      },
      "execution_count": null,
      "outputs": [
        {
          "output_type": "stream",
          "name": "stdout",
          "text": [
            "[[  14.     73.      9.5  ... 1010.82    2.      3.5 ]\n",
            " [  39.     96.      8.5  ... 1011.43    7.     10.  ]\n",
            " [  30.     64.      7.   ... 1018.72    5.      5.5 ]\n",
            " ...\n",
            " [  30.     77.      5.5  ... 1012.69    3.      9.  ]\n",
            " [   3.     76.     10.   ...  984.27    0.      2.  ]\n",
            " [  -5.     38.      0.   ... 1015.37    5.     10.  ]]\n"
          ]
        }
      ]
    },
    {
      "cell_type": "code",
      "source": [
        "squared = np.square(numeric_data)\n",
        "sine = np.sin(numeric_data[:, 0])  # Apply on Temperature\n",
        "print(squared)\n",
        "print(sine)"
      ],
      "metadata": {
        "colab": {
          "base_uri": "https://localhost:8080/"
        },
        "id": "Dy_m7x5y7FEL",
        "outputId": "b5fe0afa-b734-4f59-a71c-4f7eda71045e"
      },
      "execution_count": null,
      "outputs": [
        {
          "output_type": "stream",
          "name": "stdout",
          "text": [
            "[[1.96000000e+02 5.32900000e+03 9.02500000e+01 ... 1.02175707e+06\n",
            "  4.00000000e+00 1.22500000e+01]\n",
            " [1.52100000e+03 9.21600000e+03 7.22500000e+01 ... 1.02299064e+06\n",
            "  4.90000000e+01 1.00000000e+02]\n",
            " [9.00000000e+02 4.09600000e+03 4.90000000e+01 ... 1.03779044e+06\n",
            "  2.50000000e+01 3.02500000e+01]\n",
            " ...\n",
            " [9.00000000e+02 5.92900000e+03 3.02500000e+01 ... 1.02554104e+06\n",
            "  9.00000000e+00 8.10000000e+01]\n",
            " [9.00000000e+00 5.77600000e+03 1.00000000e+02 ... 9.68787433e+05\n",
            "  0.00000000e+00 4.00000000e+00]\n",
            " [2.50000000e+01 1.44400000e+03 0.00000000e+00 ... 1.03097624e+06\n",
            "  2.50000000e+01 1.00000000e+02]]\n",
            "[ 0.99060736  0.96379539 -0.98803162 ... -0.98803162  0.14112001\n",
            "  0.95892427]\n"
          ]
        }
      ]
    },
    {
      "cell_type": "code",
      "source": [
        "mean = np.mean(numeric_data, axis=0)\n",
        "sum_ = np.sum(numeric_data, axis=0)\n",
        "std_dev = np.std(numeric_data, axis=0)\n",
        "print(mean)\n",
        "print(sum)\n",
        "print(std_dev)"
      ],
      "metadata": {
        "colab": {
          "base_uri": "https://localhost:8080/"
        },
        "id": "s3UjPPEP7UHX",
        "outputId": "73559729-bf93-40fa-8c65-dddcc6349d09"
      },
      "execution_count": null,
      "outputs": [
        {
          "output_type": "stream",
          "name": "stdout",
          "text": [
            "[  19.12757576   68.71083333    9.83219697   53.64439394 1005.82789621\n",
            "    4.00575758    5.46291667]\n",
            "<built-in function sum>\n",
            "[17.385668   20.19348314  6.90844244 31.94533065 37.1981796   3.85645428\n",
            "  3.3713712 ]\n"
          ]
        }
      ]
    },
    {
      "cell_type": "code",
      "source": [
        "broadcast_result = numeric_data + 5  # Adds 5 to every element\n",
        "print(broadcast_result)"
      ],
      "metadata": {
        "colab": {
          "base_uri": "https://localhost:8080/"
        },
        "id": "lqFtgmFz7UlI",
        "outputId": "a493060d-b05b-40c8-d0c0-7a2786935e2b"
      },
      "execution_count": null,
      "outputs": [
        {
          "output_type": "stream",
          "name": "stdout",
          "text": [
            "[[  19.     78.     14.5  ... 1015.82    7.      8.5 ]\n",
            " [  44.    101.     13.5  ... 1016.43   12.     15.  ]\n",
            " [  35.     69.     12.   ... 1023.72   10.     10.5 ]\n",
            " ...\n",
            " [  35.     82.     10.5  ... 1017.69    8.     14.  ]\n",
            " [   8.     81.     15.   ...  989.27    5.      7.  ]\n",
            " [   0.     43.      5.   ... 1020.37   10.     15.  ]]\n"
          ]
        }
      ]
    },
    {
      "cell_type": "code",
      "source": [
        "hot_days = numeric_data[:, 0] > 30  # Temperature > 30\n",
        "print(numeric_data[hot_days])      # Filter rows with high temperature\n"
      ],
      "metadata": {
        "colab": {
          "base_uri": "https://localhost:8080/"
        },
        "id": "SqvaGSW17ggr",
        "outputId": "3cef46d2-8398-4519-9a9c-88b335ac600f"
      },
      "execution_count": null,
      "outputs": [
        {
          "output_type": "stream",
          "name": "stdout",
          "text": [
            "[[3.90000e+01 9.60000e+01 8.50000e+00 ... 1.01143e+03 7.00000e+00\n",
            "  1.00000e+01]\n",
            " [3.80000e+01 8.30000e+01 1.50000e+00 ... 1.02625e+03 7.00000e+00\n",
            "  1.00000e+00]\n",
            " [3.20000e+01 5.50000e+01 3.50000e+00 ... 1.01003e+03 2.00000e+00\n",
            "  5.00000e+00]\n",
            " ...\n",
            " [3.30000e+01 5.40000e+01 5.00000e-01 ... 1.01266e+03 7.00000e+00\n",
            "  9.00000e+00]\n",
            " [3.70000e+01 1.06000e+02 2.35000e+01 ... 9.98710e+02 1.40000e+01\n",
            "  3.00000e+00]\n",
            " [3.10000e+01 2.40000e+01 8.00000e+00 ... 1.02961e+03 8.00000e+00\n",
            "  9.00000e+00]]\n"
          ]
        }
      ]
    },
    {
      "cell_type": "code",
      "source": [
        "row_indices = [0, 10, 100]\n",
        "fancy_rows = numeric_data[row_indices]\n",
        "print(fancy_rows)"
      ],
      "metadata": {
        "colab": {
          "base_uri": "https://localhost:8080/"
        },
        "id": "i9biFzYa7jLD",
        "outputId": "4febb30d-8ec2-48c4-def6-73353b5fd25f"
      },
      "execution_count": null,
      "outputs": [
        {
          "output_type": "stream",
          "name": "stdout",
          "text": [
            "[[1.40000e+01 7.30000e+01 9.50000e+00 8.20000e+01 1.01082e+03 2.00000e+00\n",
            "  3.50000e+00]\n",
            " [3.50000e+01 4.50000e+01 6.00000e+00 8.60000e+01 8.79880e+02 2.00000e+00\n",
            "  1.00000e+00]\n",
            " [4.00000e+01 6.60000e+01 8.00000e+00 5.00000e+00 1.01982e+03 5.00000e+00\n",
            "  5.50000e+00]]\n"
          ]
        }
      ]
    },
    {
      "cell_type": "code",
      "source": [
        "sorted_temp = np.sort(numeric_data[:, 0])     # Sort Temperature\n",
        "sorted_indices = np.argsort(numeric_data[:, 0])  # Indices that sort Temperature\n",
        "print(sorted_indices)\n",
        "print(sorted_temp)"
      ],
      "metadata": {
        "colab": {
          "base_uri": "https://localhost:8080/"
        },
        "id": "MrUDYc2R7nYM",
        "outputId": "c3a912c2-decb-405d-94f4-0759839771f5"
      },
      "execution_count": null,
      "outputs": [
        {
          "output_type": "stream",
          "name": "stdout",
          "text": [
            "[ 4609  8059   267 ...  2958 10993  5085]\n",
            "[-25. -24. -24. ... 107. 108. 109.]\n"
          ]
        }
      ]
    },
    {
      "cell_type": "code",
      "source": [
        "top_5_wind = np.partition(numeric_data[:, 2], -5)[-5:]  # Top 5 wind speeds\n",
        "print(top_5_wind)"
      ],
      "metadata": {
        "colab": {
          "base_uri": "https://localhost:8080/"
        },
        "id": "d-rLiNee70Cl",
        "outputId": "f44b7694-7961-4b44-da9e-fd4875dec0e7"
      },
      "execution_count": null,
      "outputs": [
        {
          "output_type": "stream",
          "name": "stdout",
          "text": [
            "[47.  47.  47.  47.5 48.5]\n"
          ]
        }
      ]
    },
    {
      "cell_type": "code",
      "source": [
        "structured = np.array(\n",
        "    [(x[0], x[1]) for x in numeric_data],\n",
        "    dtype=[('Temperature', 'f8'), ('Humidity', 'i4')]\n",
        ")\n",
        "print(structured[:3])\n"
      ],
      "metadata": {
        "colab": {
          "base_uri": "https://localhost:8080/"
        },
        "id": "nXTpmzna76DW",
        "outputId": "366b1b16-3546-4798-9455-90369eabd5fc"
      },
      "execution_count": null,
      "outputs": [
        {
          "output_type": "stream",
          "name": "stdout",
          "text": [
            "[(14., 73) (39., 96) (30., 64)]\n"
          ]
        }
      ]
    },
    {
      "cell_type": "code",
      "source": [],
      "metadata": {
        "id": "SOX4l6qjFSZv"
      },
      "execution_count": null,
      "outputs": []
    }
  ]
}